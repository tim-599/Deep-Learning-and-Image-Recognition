{
 "cells": [
  {
   "cell_type": "raw",
   "id": "a7a7b882-d0c4-4c52-b058-e7c9445ff399",
   "metadata": {
    "canvas": {
     "comments": [],
     "componentType": "CodeCell",
     "copiedOriginId": null,
     "diskcache": false,
     "headerColor": "inherit",
     "id": "368c2792-011b-413c-9023-7890c8a012c1",
     "isComponent": false,
     "name": "",
     "parents": []
    }
   },
   "source": [
    "!pip3 install <套件名稱>"
   ]
  },
  {
   "cell_type": "code",
   "execution_count": 1,
   "id": "34eb08b6-0e6b-4051-8bb4-e6dbe628ebf4",
   "metadata": {
    "canvas": {
     "comments": [],
     "componentType": "CodeCell",
     "copiedOriginId": null,
     "diskcache": false,
     "headerColor": "inherit",
     "id": "4ead3b92-1179-4102-ac5f-f2602cb7921b",
     "isComponent": false,
     "name": "",
     "parents": []
    },
    "tags": []
   },
   "outputs": [],
   "source": [
    "import json\n",
    "import numpy\n"
   ]
  },
  {
   "cell_type": "code",
   "execution_count": 2,
   "id": "832d7e4f-6e31-47e7-ba57-641a5ecc86b3",
   "metadata": {
    "canvas": {
     "comments": [],
     "componentType": "CodeCell",
     "copiedOriginId": null,
     "diskcache": false,
     "headerColor": "inherit",
     "id": "3fe30f14-6532-43e6-a135-e7d57a0066ca",
     "isComponent": false,
     "name": "",
     "parents": []
    }
   },
   "outputs": [
    {
     "name": "stdout",
     "output_type": "stream",
     "text": [
      "<class 'int'>\n",
      "<class 'float'>\n",
      "<class 'str'>\n",
      "<class 'bool'>\n"
     ]
    }
   ],
   "source": [
    "# 資料型態 data type\n",
    "a = 10     # 定義/宣告 變數a 等於 10，且資料型態為整數\n",
    "b = 10.    # 定義/宣告 變數b 等於 10.0，且資料型態為浮點數\n",
    "c = \"123\"  # 定義/宣告 變數c 等於 123，且資料型態為字串\n",
    "d = True   # 定義/宣告 變數d 等於 Ture，且資料型態為布林代數\n",
    "\n",
    "print(type(a))\n",
    "print(type(b))\n",
    "print(type(c))\n",
    "print(type(d))\n",
    "\n"
   ]
  },
  {
   "cell_type": "code",
   "execution_count": 3,
   "id": "f5c756a6-7e3c-4698-b5a9-4673b47753a3",
   "metadata": {
    "canvas": {
     "comments": [],
     "componentType": "CodeCell",
     "copiedOriginId": null,
     "diskcache": false,
     "headerColor": "inherit",
     "id": "de07ac36-9481-4862-bd8c-9b59237dd83d",
     "isComponent": false,
     "name": "",
     "parents": []
    }
   },
   "outputs": [
    {
     "name": "stdout",
     "output_type": "stream",
     "text": [
      "20\n",
      "123\n",
      "value\n",
      "10\n",
      "two\n",
      "11\n",
      "['19.1', '20', '123', '妳好']\n"
     ]
    }
   ],
   "source": [
    "# 三種容器、Tuple list dictionary\n",
    "t1 = (120,20)\n",
    "lst = [10, 10.0, \"123\", True, numpy]\n",
    "dic = {\"key\": \"value\", 1: 10, 2.:\"two\"}\n",
    "\n",
    "print(t1[1])\n",
    "print(lst[2])\n",
    "print(dic[\"key\"])\n",
    "print(dic[1])\n",
    "print(dic[2.])\n",
    "\n",
    "dic[1] = dic[1] + 1\n",
    "print(dic[1])\n",
    "\n",
    "# 字串切割的範例\n",
    "str1 = \"19.1,20,123,妳好\".split(\",\")\n",
    "print(str1)"
   ]
  },
  {
   "cell_type": "code",
   "execution_count": 5,
   "id": "0ae24805-f2da-4437-8f1e-d2dbf991e3f7",
   "metadata": {
    "canvas": {
     "comments": [],
     "componentType": "CodeCell",
     "copiedOriginId": null,
     "diskcache": false,
     "headerColor": "inherit",
     "id": "720f6901-925b-4d12-b7c8-2cafbd473289",
     "isComponent": false,
     "name": "",
     "parents": []
    }
   },
   "outputs": [
    {
     "name": "stdout",
     "output_type": "stream",
     "text": [
      "{'學校': '中國醫藥大學', '姓名': '王小明', '年齡': 20}\n"
     ]
    }
   ],
   "source": [
    "import json\n",
    "#Json 格式範例\n",
    "\n",
    "dic1 = {\n",
    "        \"學校\": \"中國醫藥大學\",\n",
    "        \"姓名\":\"王小明\",\n",
    "        \"年齡\":20,\n",
    "        }\n",
    "\n",
    "js = json.dumps(dic1)\n",
    "\n",
    "# 寫入Json檔案\n",
    "with open(\"test.json\", \"w\") as fp:\n",
    "    fp.write(js)\n",
    "\n",
    "# 讀取Json檔案\n",
    "with open(\"test.json\", \"r\") as fp:\n",
    "    data = json.load(fp)\n",
    "    \n",
    "print(data)"
   ]
  }
 ],
 "metadata": {
  "canvas": {
   "colorPalette": [
    "inherit",
    "inherit",
    "inherit",
    "inherit",
    "inherit",
    "inherit",
    "inherit",
    "inherit",
    "inherit",
    "inherit"
   ],
   "parameters": [],
   "version": "1.0"
  },
  "kernelspec": {
   "display_name": "Python 3 (ipykernel)",
   "language": "python",
   "name": "python3"
  },
  "language_info": {
   "codemirror_mode": {
    "name": "ipython",
    "version": 3
   },
   "file_extension": ".py",
   "mimetype": "text/x-python",
   "name": "python",
   "nbconvert_exporter": "python",
   "pygments_lexer": "ipython3",
   "version": "3.9.1"
  }
 },
 "nbformat": 4,
 "nbformat_minor": 5
}
