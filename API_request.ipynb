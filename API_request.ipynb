{
 "cells": [
  {
   "cell_type": "code",
   "execution_count": 3,
   "id": "4006f52b-12c2-430c-b410-0f87016d3e65",
   "metadata": {
    "canvas": {
     "comments": [],
     "componentType": "CodeCell",
     "copiedOriginId": null,
     "diskcache": false,
     "headerColor": "inherit",
     "id": "77e1b12b-9655-4651-a6c5-b4da66485d3f",
     "isComponent": false,
     "name": "",
     "parents": []
    },
    "tags": []
   },
   "outputs": [
    {
     "data": {
      "text/plain": [
       "<Response [200]>"
      ]
     },
     "execution_count": 3,
     "metadata": {},
     "output_type": "execute_result"
    }
   ],
   "source": [
    "import json\n",
    "import numpy\n",
    "import requests\n",
    "#Json 格式範例\n",
    "url = \"http://127.0.0.1:6666/API_Router\"\n",
    "\n",
    "dic1 = {\n",
    "        \"含氧量\": 19.1,\n",
    "        \"氣溫\":[20,30,10],\n",
    "        \"編號\":123,\n",
    "        \"評論\":{}\n",
    "        }\n",
    "\n",
    "js = json.dumps(dic1)\n",
    "\n",
    "# 寫入Json檔案\n",
    "with open(\"test.json\", \"w\") as fp:\n",
    "    fp.write(js)\n",
    "\n",
    "# 讀取Json檔案\n",
    "with open(\"test.json\", \"r\") as fp:\n",
    "    data = json.load(fp)\n",
    "    \n",
    "res = requests.post(url,data = js)\n",
    "res"
   ]
  },
  {
   "cell_type": "code",
   "execution_count": null,
   "id": "004639bf-ce64-43c9-9b07-90c216793495",
   "metadata": {
    "canvas": {
     "comments": [],
     "componentType": "CodeCell",
     "copiedOriginId": null,
     "diskcache": false,
     "headerColor": "inherit",
     "id": "9e9423a1-37da-4013-bae0-a3d15b58f7fe",
     "isComponent": false,
     "name": "",
     "parents": []
    }
   },
   "outputs": [],
   "source": []
  }
 ],
 "metadata": {
  "canvas": {
   "colorPalette": [
    "inherit",
    "inherit",
    "inherit",
    "inherit",
    "inherit",
    "inherit",
    "inherit",
    "inherit",
    "inherit",
    "inherit"
   ],
   "parameters": []
  },
  "kernelspec": {
   "display_name": "Python 3 (ipykernel)",
   "language": "python",
   "name": "python3"
  },
  "language_info": {
   "codemirror_mode": {
    "name": "ipython",
    "version": 3
   },
   "file_extension": ".py",
   "mimetype": "text/x-python",
   "name": "python",
   "nbconvert_exporter": "python",
   "pygments_lexer": "ipython3",
   "version": "3.9.1"
  }
 },
 "nbformat": 4,
 "nbformat_minor": 5
}
