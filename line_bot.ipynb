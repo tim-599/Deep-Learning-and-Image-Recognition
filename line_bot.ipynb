{
 "cells": [
  {
   "cell_type": "code",
   "execution_count": null,
   "id": "f3826995-a77c-433e-8726-bea285295a5b",
   "metadata": {},
   "outputs": [],
   "source": [
    "from flask import Flask, request\n",
    "\n",
    "# 載入 json 標準函式庫，處理回傳的資料格式\n",
    "import json\n",
    "\n",
    "# 載入 LINE Message API 相關函式庫\n",
    "from linebot import LineBotApi, WebhookHandler\n",
    "from linebot.exceptions import InvalidSignatureError\n",
    "from linebot.models import MessageEvent, TextMessage, TextSendMessage\n",
    "\n",
    "app = Flask(__name__)\n",
    "\n",
    "@app.route(\"/\", methods=['POST'])\n",
    "def linebot():\n",
    "    body = request.get_data(as_text=True)                    # 取得收到的訊息內容\n",
    "    try:\n",
    "        json_data = json.loads(body)                         # json 格式化訊息內容\n",
    "        access_token = 'ETFG3ac/XU4pi17qXoEeN4wSQqG+yrTR04xutkVyflmiap7kdhCT/M9KX3J8l6kDEI+jWvyCH4pUDxkCQ1yvdsmjUgpVGA+vfDHWU9Kqe+kUg3zvDvZeX5YYOdcE0pTYvaWGynVd+HiB9fxftT78bgdB04t89/1O/w1cDnyilFU='\n",
    "        secret = 'f41ac8060fe963bde708c5df4fbb156b'\n",
    "#####################################################################\n",
    "        line_bot_api = LineBotApi(access_token)              # 確認 token 是否正確\n",
    "        handler = WebhookHandler(secret)                     # 確認 secret 是否正確\n",
    "#####################################################################\n",
    "        signature = request.headers['X-Line-Signature']      # 加入回傳的 headers\n",
    "        handler.handle(body, signature)                      # 綁定訊息回傳的相關資訊\n",
    "        tk = json_data['events'][0]['replyToken']            # 取得回傳訊息的 Token\n",
    "#####################################################################\n",
    "        type = json_data['events'][0]['message']['type']     # 取得 LINe 收到的訊息類型\n",
    "        print(data_type)\n",
    "        if data_type=='text':\n",
    "            msg = json_data['events'][0]['message']['text']  # 取得 LINE 收到的文字訊息\n",
    "            print(msg)                                       # 印出內容\n",
    "            reply = \"hello\" + tk + \"123123\"\n",
    "        elif data_type == \"image\":\n",
    "            print (msg = json_data['events'][0]['message']['text'])\n",
    "            reply = \"hello\" + \"monkey\"   \n",
    "        else:\n",
    "            reply = '你傳的不是文字呦～'\n",
    "        print(reply)\n",
    "#####################################################################\n",
    "        line_bot_api.reply_message(tk,TextSendMessage(reply))# 回傳訊息\n",
    "    except:\n",
    "        print(body)                                          # 如果發生錯誤，印出收到的內容\n",
    "    return 'OK'                                              # 驗證 Webhook 使用，不能省略\n",
    "\n",
    "\n"
   ]
  },
  {
   "cell_type": "code",
   "execution_count": null,
   "id": "7bf1c524-1d0a-40ec-a8b5-3c99c0ed30dd",
   "metadata": {},
   "outputs": [
    {
     "name": "stdout",
     "output_type": "stream",
     "text": [
      " * Serving Flask app \"__main__\" (lazy loading)\n",
      " * Environment: production\n",
      "\u001b[31m   WARNING: This is a development server. Do not use it in a production deployment.\u001b[0m\n",
      "\u001b[2m   Use a production WSGI server instead.\u001b[0m\n",
      " * Debug mode: off\n"
     ]
    },
    {
     "name": "stderr",
     "output_type": "stream",
     "text": [
      " * Running on http://127.0.0.1:5000/ (Press CTRL+C to quit)\n",
      "C:\\Users\\Tim599\\AppData\\Local\\Temp\\ipykernel_9476\\3324821289.py:21: LineBotSdkDeprecatedIn30: Call to deprecated class LineBotApi. (Use v3 class; linebot.v3.<feature>. See https://github.com/line/line-bot-sdk-python/blob/master/README.rst for more details.) -- Deprecated since version 3.0.0.\n",
      "  line_bot_api = LineBotApi(access_token)              # 確認 token 是否正確\n",
      "C:\\Users\\Tim599\\AppData\\Local\\Temp\\ipykernel_9476\\3324821289.py:22: LineBotSdkDeprecatedIn30: Call to deprecated class WebhookHandler. (Use 'from linebot.v3.webhook import WebhookHandler' instead. See https://github.com/line/line-bot-sdk-python/blob/master/README.rst for more details.) -- Deprecated since version 3.0.0.\n",
      "  handler = WebhookHandler(secret)                     # 確認 secret 是否正確\n",
      "127.0.0.1 - - [13/Jun/2024 10:05:41] \"POST / HTTP/1.1\" 200 -\n"
     ]
    },
    {
     "name": "stdout",
     "output_type": "stream",
     "text": [
      "{\"destination\":\"Uaa8365c1ff57733fa97ac907e9d4f9ae\",\"events\":[]}\n"
     ]
    },
    {
     "name": "stderr",
     "output_type": "stream",
     "text": [
      "127.0.0.1 - - [13/Jun/2024 10:06:19] \"POST / HTTP/1.1\" 200 -\n"
     ]
    },
    {
     "name": "stdout",
     "output_type": "stream",
     "text": [
      "{\"destination\":\"Uaa8365c1ff57733fa97ac907e9d4f9ae\",\"events\":[{\"type\":\"message\",\"message\":{\"type\":\"text\",\"id\":\"512398111994282249\",\"quoteToken\":\"SzQ2lTqxxA0AoZZt_Bf2Tu_tLhMi56HexeqvEfbihcO5cYZ3hcJynS_S6UPzvbK1uP-ePvEv8pXMIMlyOyIrCHd-qftKUZScIX3mhZkQS-iwas9a7UtQP0sBBlFsbhsGf_5Y-D3dwXa24wNXDXx_nA\",\"text\":\"......\"},\"webhookEventId\":\"01J07NH2G0CW8VXAFT6T2JWB11\",\"deliveryContext\":{\"isRedelivery\":false},\"timestamp\":1718244378663,\"source\":{\"type\":\"user\",\"userId\":\"U62072733050ea3ab00ba328c92e6872f\"},\"replyToken\":\"4af77a6681ed4ecf8eff26cb4ac4d030\",\"mode\":\"active\"}]}\n"
     ]
    },
    {
     "name": "stderr",
     "output_type": "stream",
     "text": [
      "127.0.0.1 - - [13/Jun/2024 10:07:40] \"POST / HTTP/1.1\" 200 -\n"
     ]
    },
    {
     "name": "stdout",
     "output_type": "stream",
     "text": [
      "{\"destination\":\"Uaa8365c1ff57733fa97ac907e9d4f9ae\",\"events\":[{\"type\":\"message\",\"message\":{\"type\":\"text\",\"id\":\"512398247201865923\",\"quoteToken\":\"jaWEHJYmk9dR1-KXHOA1DqueMQlF_Prfy8gwMa2Vyt-rKqSWZz15DXLB_bokY6Tm83pk6jw6ArfUtwB5bHhf5kUHL7KZryMTKWgsKHj1xi1TDixrxpTObIOlNBhgtluFNrH7bmM8TOeOeJ8QK9unDQ\",\"text\":\".....\"},\"webhookEventId\":\"01J07NKH3CVSGDX48Z8RGRC9PR\",\"deliveryContext\":{\"isRedelivery\":false},\"timestamp\":1718244459118,\"source\":{\"type\":\"user\",\"userId\":\"U62072733050ea3ab00ba328c92e6872f\"},\"replyToken\":\"f7721896353d4c7dbc803ebefd51ed29\",\"mode\":\"active\"}]}\n"
     ]
    },
    {
     "name": "stderr",
     "output_type": "stream",
     "text": [
      "127.0.0.1 - - [13/Jun/2024 10:09:53] \"POST / HTTP/1.1\" 200 -\n"
     ]
    },
    {
     "name": "stdout",
     "output_type": "stream",
     "text": [
      "{\"destination\":\"Uaa8365c1ff57733fa97ac907e9d4f9ae\",\"events\":[{\"type\":\"follow\",\"follow\":{\"isUnblocked\":false},\"webhookEventId\":\"01J07NQKDY21SZKNA6GA54XMTP\",\"deliveryContext\":{\"isRedelivery\":false},\"timestamp\":1718244592652,\"source\":{\"type\":\"user\",\"userId\":\"U9f4725868651196def1122b2a8895bc8\"},\"replyToken\":\"cb2e41a8c7d6472b9e32cdf6c296c041\",\"mode\":\"active\"}]}\n"
     ]
    },
    {
     "name": "stderr",
     "output_type": "stream",
     "text": [
      "127.0.0.1 - - [13/Jun/2024 10:09:58] \"POST / HTTP/1.1\" 200 -\n"
     ]
    },
    {
     "name": "stdout",
     "output_type": "stream",
     "text": [
      "{\"destination\":\"Uaa8365c1ff57733fa97ac907e9d4f9ae\",\"events\":[{\"type\":\"message\",\"message\":{\"type\":\"text\",\"id\":\"512398479097331842\",\"quoteToken\":\"3H7YhYWkuctYPOYDIyYY562tHVSG3E79sto8tEeBr1R6af-mbwAu_mymnEgLVNT89dn5qSlHDmX31Em33s6iCPge14rVdW91Egd5EduyuWYZu2qVT9rAhIjUhi5hFDzkChZ8X_VXZlyn0PshsJddSA\",\"text\":\"123\"},\"webhookEventId\":\"01J07NQR1DD1M8WRTHNYWRZ6A3\",\"deliveryContext\":{\"isRedelivery\":false},\"timestamp\":1718244597335,\"source\":{\"type\":\"user\",\"userId\":\"U9f4725868651196def1122b2a8895bc8\"},\"replyToken\":\"fa82231a6d0d42b0ad9cf864c8c3bb75\",\"mode\":\"active\"}]}\n"
     ]
    },
    {
     "name": "stderr",
     "output_type": "stream",
     "text": [
      "127.0.0.1 - - [13/Jun/2024 10:14:45] \"POST / HTTP/1.1\" 200 -\n"
     ]
    },
    {
     "name": "stdout",
     "output_type": "stream",
     "text": [
      "{\"destination\":\"Uaa8365c1ff57733fa97ac907e9d4f9ae\",\"events\":[]}\n"
     ]
    }
   ],
   "source": [
    "if __name__ == \"__main__\":\n",
    "    app.run()"
   ]
  }
 ],
 "metadata": {
  "kernelspec": {
   "display_name": "Python 3 (ipykernel)",
   "language": "python",
   "name": "python3"
  },
  "language_info": {
   "codemirror_mode": {
    "name": "ipython",
    "version": 3
   },
   "file_extension": ".py",
   "mimetype": "text/x-python",
   "name": "python",
   "nbconvert_exporter": "python",
   "pygments_lexer": "ipython3",
   "version": "3.9.1"
  }
 },
 "nbformat": 4,
 "nbformat_minor": 5
}
