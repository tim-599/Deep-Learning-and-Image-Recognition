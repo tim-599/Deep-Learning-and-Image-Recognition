{
 "cells": [
  {
   "cell_type": "code",
   "execution_count": 3,
   "id": "4006f52b-12c2-430c-b410-0f87016d3e65",
   "metadata": {
    "canvas": {
     "comments": [],
     "componentType": "CodeCell",
     "copiedOriginId": null,
     "diskcache": false,
     "headerColor": "inherit",
     "id": "77e1b12b-9655-4651-a6c5-b4da66485d3f",
     "isComponent": false,
     "name": "",
     "parents": []
    },
    "tags": []
   },
   "outputs": [
    {
     "name": "stdout",
     "output_type": "stream",
     "text": [
      "<Response [200]>\n",
      "{'massage': 'Congratulations'}\n"
     ]
    }
   ],
   "source": [
    "import json\n",
    "import numpy\n",
    "import requests\n",
    "#Json 格式範例\n",
    "url = \"http://163.17.136.69:5555/Final_Hw1\"\n",
    "\n",
    "dic1 = {\n",
    "        \"Id\": \"0011\",\n",
    "        \"name\":\"Sam\",\n",
    "        \"Age\":30,\n",
    "        \"location\":\"中國醫藥大學\"\n",
    "        }\n",
    "\n",
    "js = json.dumps(dic1)\n",
    "    \n",
    "res = requests.post(url, data = js)\n",
    "print(res)\n",
    "print(res.json())"
   ]
  },
  {
   "cell_type": "code",
   "execution_count": null,
   "id": "004639bf-ce64-43c9-9b07-90c216793495",
   "metadata": {
    "canvas": {
     "comments": [],
     "componentType": "CodeCell",
     "copiedOriginId": null,
     "diskcache": false,
     "headerColor": "inherit",
     "id": "9e9423a1-37da-4013-bae0-a3d15b58f7fe",
     "isComponent": false,
     "name": "",
     "parents": []
    }
   },
   "outputs": [],
   "source": []
  }
 ],
 "metadata": {
  "canvas": {
   "colorPalette": [
    "inherit",
    "inherit",
    "inherit",
    "inherit",
    "inherit",
    "inherit",
    "inherit",
    "inherit",
    "inherit",
    "inherit"
   ],
   "parameters": [],
   "version": "1.0"
  },
  "kernelspec": {
   "display_name": "Python 3 (ipykernel)",
   "language": "python",
   "name": "python3"
  },
  "language_info": {
   "codemirror_mode": {
    "name": "ipython",
    "version": 3
   },
   "file_extension": ".py",
   "mimetype": "text/x-python",
   "name": "python",
   "nbconvert_exporter": "python",
   "pygments_lexer": "ipython3",
   "version": "3.9.1"
  }
 },
 "nbformat": 4,
 "nbformat_minor": 5
}
