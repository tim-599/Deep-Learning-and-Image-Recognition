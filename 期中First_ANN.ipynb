{
 "cells": [
  {
   "cell_type": "code",
   "execution_count": 1,
   "id": "95b2ecce-f04c-4709-9a7d-0f28bb3823e4",
   "metadata": {
    "canvas": {
     "comments": [],
     "componentType": "CodeCell",
     "copiedOriginId": null,
     "diskcache": false,
     "headerColor": "inherit",
     "id": "c5376cf7-b9b7-49ef-977c-16f701c49932",
     "isComponent": false,
     "name": "",
     "parents": []
    }
   },
   "outputs": [
    {
     "name": "stdout",
     "output_type": "stream",
     "text": [
      "Requirement already satisfied: torch in c:\\users\\tim599\\appdata\\local\\programs\\python\\python39\\lib\\site-packages (1.11.0)\n",
      "Requirement already satisfied: typing-extensions in c:\\users\\tim599\\appdata\\local\\programs\\python\\python39\\lib\\site-packages (from torch) (4.2.0)\n"
     ]
    },
    {
     "name": "stderr",
     "output_type": "stream",
     "text": [
      "WARNING: You are using pip version 20.2.3; however, version 24.0 is available.\n",
      "You should consider upgrading via the 'c:\\users\\tim599\\appdata\\local\\programs\\python\\python39\\python.exe -m pip install --upgrade pip' command.\n"
     ]
    },
    {
     "name": "stdout",
     "output_type": "stream",
     "text": [
      "Requirement already satisfied: torchvision in c:\\users\\tim599\\appdata\\local\\programs\\python\\python39\\lib\\site-packages (0.12.0)\n",
      "Requirement already satisfied: numpy in c:\\users\\tim599\\appdata\\local\\programs\\python\\python39\\lib\\site-packages (from torchvision) (1.26.4)\n",
      "Requirement already satisfied: pillow!=8.3.*,>=5.3.0 in c:\\users\\tim599\\appdata\\local\\programs\\python\\python39\\lib\\site-packages (from torchvision) (10.2.0)\n",
      "Requirement already satisfied: typing-extensions in c:\\users\\tim599\\appdata\\local\\programs\\python\\python39\\lib\\site-packages (from torchvision) (4.2.0)\n",
      "Requirement already satisfied: requests in c:\\users\\tim599\\appdata\\local\\programs\\python\\python39\\lib\\site-packages (from torchvision) (2.31.0)\n",
      "Requirement already satisfied: torch==1.11.0 in c:\\users\\tim599\\appdata\\local\\programs\\python\\python39\\lib\\site-packages (from torchvision) (1.11.0)\n",
      "Requirement already satisfied: charset-normalizer<4,>=2 in c:\\users\\tim599\\appdata\\local\\programs\\python\\python39\\lib\\site-packages (from requests->torchvision) (3.3.2)\n",
      "Requirement already satisfied: certifi>=2017.4.17 in c:\\users\\tim599\\appdata\\local\\programs\\python\\python39\\lib\\site-packages (from requests->torchvision) (2024.2.2)\n",
      "Requirement already satisfied: urllib3<3,>=1.21.1 in c:\\users\\tim599\\appdata\\local\\programs\\python\\python39\\lib\\site-packages (from requests->torchvision) (1.24.3)\n",
      "Requirement already satisfied: idna<4,>=2.5 in c:\\users\\tim599\\appdata\\local\\programs\\python\\python39\\lib\\site-packages (from requests->torchvision) (3.6)\n"
     ]
    },
    {
     "name": "stderr",
     "output_type": "stream",
     "text": [
      "WARNING: You are using pip version 20.2.3; however, version 24.0 is available.\n",
      "You should consider upgrading via the 'c:\\users\\tim599\\appdata\\local\\programs\\python\\python39\\python.exe -m pip install --upgrade pip' command.\n"
     ]
    },
    {
     "name": "stdout",
     "output_type": "stream",
     "text": [
      "Requirement already satisfied: tqdm in c:\\users\\tim599\\appdata\\local\\programs\\python\\python39\\lib\\site-packages (4.64.0)\n",
      "Requirement already satisfied: colorama; platform_system == \"Windows\" in c:\\users\\tim599\\appdata\\local\\programs\\python\\python39\\lib\\site-packages (from tqdm) (0.4.6)\n"
     ]
    },
    {
     "name": "stderr",
     "output_type": "stream",
     "text": [
      "WARNING: You are using pip version 20.2.3; however, version 24.0 is available.\n",
      "You should consider upgrading via the 'c:\\users\\tim599\\appdata\\local\\programs\\python\\python39\\python.exe -m pip install --upgrade pip' command.\n"
     ]
    },
    {
     "name": "stdout",
     "output_type": "stream",
     "text": [
      "Requirement already satisfied: matplotlib in c:\\users\\tim599\\appdata\\local\\programs\\python\\python39\\lib\\site-packages (3.8.3)\n",
      "Requirement already satisfied: pyparsing>=2.3.1 in c:\\users\\tim599\\appdata\\local\\programs\\python\\python39\\lib\\site-packages (from matplotlib) (3.0.7)\n",
      "Requirement already satisfied: kiwisolver>=1.3.1 in c:\\users\\tim599\\appdata\\local\\programs\\python\\python39\\lib\\site-packages (from matplotlib) (1.4.5)\n",
      "Requirement already satisfied: pillow>=8 in c:\\users\\tim599\\appdata\\local\\programs\\python\\python39\\lib\\site-packages (from matplotlib) (10.2.0)\n",
      "Requirement already satisfied: contourpy>=1.0.1 in c:\\users\\tim599\\appdata\\local\\programs\\python\\python39\\lib\\site-packages (from matplotlib) (1.2.0)\n",
      "Requirement already satisfied: cycler>=0.10 in c:\\users\\tim599\\appdata\\local\\programs\\python\\python39\\lib\\site-packages (from matplotlib) (0.12.1)\n",
      "Requirement already satisfied: packaging>=20.0 in c:\\users\\tim599\\appdata\\local\\programs\\python\\python39\\lib\\site-packages (from matplotlib) (24.0)\n",
      "Requirement already satisfied: python-dateutil>=2.7 in c:\\users\\tim599\\appdata\\local\\programs\\python\\python39\\lib\\site-packages (from matplotlib) (2.8.2)\n",
      "Requirement already satisfied: fonttools>=4.22.0 in c:\\users\\tim599\\appdata\\local\\programs\\python\\python39\\lib\\site-packages (from matplotlib) (4.49.0)\n",
      "Requirement already satisfied: numpy<2,>=1.21 in c:\\users\\tim599\\appdata\\local\\programs\\python\\python39\\lib\\site-packages (from matplotlib) (1.26.4)\n",
      "Requirement already satisfied: importlib-resources>=3.2.0; python_version < \"3.10\" in c:\\users\\tim599\\appdata\\local\\programs\\python\\python39\\lib\\site-packages (from matplotlib) (6.3.0)\n",
      "Requirement already satisfied: six>=1.5 in c:\\users\\tim599\\appdata\\local\\programs\\python\\python39\\lib\\site-packages (from python-dateutil>=2.7->matplotlib) (1.16.0)\n",
      "Requirement already satisfied: zipp>=3.1.0; python_version < \"3.10\" in c:\\users\\tim599\\appdata\\local\\programs\\python\\python39\\lib\\site-packages (from importlib-resources>=3.2.0; python_version < \"3.10\"->matplotlib) (3.8.0)\n"
     ]
    },
    {
     "name": "stderr",
     "output_type": "stream",
     "text": [
      "WARNING: You are using pip version 20.2.3; however, version 24.0 is available.\n",
      "You should consider upgrading via the 'c:\\users\\tim599\\appdata\\local\\programs\\python\\python39\\python.exe -m pip install --upgrade pip' command.\n"
     ]
    }
   ],
   "source": [
    "!pip install torch\n",
    "!pip install torchvision\n",
    "!pip install tqdm\n",
    "!pip install matplotlib"
   ]
  },
  {
   "cell_type": "markdown",
   "id": "1beb8a38-123a-451b-9623-fcb4fb9316d2",
   "metadata": {
    "canvas": {
     "comments": [],
     "componentType": "CodeCell",
     "copiedOriginId": null,
     "diskcache": false,
     "headerColor": "none",
     "id": "7a05683b-6ab9-4c9f-8d42-7418f6876ec4",
     "isComponent": false,
     "name": "",
     "parents": []
    },
    "tags": []
   },
   "source": [
    "# 第一個人工智慧程式"
   ]
  },
  {
   "cell_type": "markdown",
   "id": "33bc1129-927b-4a7d-b9a9-9233ba98aea1",
   "metadata": {
    "canvas": {
     "comments": [],
     "componentType": "CodeCell",
     "copiedOriginId": null,
     "diskcache": false,
     "headerColor": "none",
     "id": "3fcb7307-0eb3-4fac-8dc7-05b17c5ef8a7",
     "isComponent": false,
     "name": "",
     "parents": []
    }
   },
   "source": [
    "## 引用函式庫\n",
    "----"
   ]
  },
  {
   "cell_type": "code",
   "execution_count": 2,
   "id": "5050e4bd-5b27-4877-a01b-be37421904bb",
   "metadata": {
    "canvas": {
     "comments": [],
     "componentType": "CodeCell",
     "copiedOriginId": null,
     "diskcache": false,
     "headerColor": "none",
     "id": "e5a18c88-2360-45cc-8ce1-3e8c3d5e5d3b",
     "isComponent": true,
     "name": "load_lib",
     "parents": []
    },
    "tags": []
   },
   "outputs": [
    {
     "name": "stderr",
     "output_type": "stream",
     "text": [
      "c:\\users\\tim599\\appdata\\local\\programs\\python\\python39\\lib\\site-packages\\tqdm\\auto.py:22: TqdmWarning: IProgress not found. Please update jupyter and ipywidgets. See https://ipywidgets.readthedocs.io/en/stable/user_install.html\n",
      "  from .autonotebook import tqdm as notebook_tqdm\n"
     ]
    }
   ],
   "source": [
    "import torch #主函式庫\n",
    "\n",
    "import torch.nn as nn #定義模型架構\n",
    "import torch.nn.functional as F #定義某些演算法\n",
    "\n",
    "from torch.utils.data import Dataset, DataLoader #定義資料引入的工具\n",
    "from torch.optim import Adam #定義最佳化演算法工具\n",
    "\n",
    "from torchvision import transforms, datasets #支援影像處理的工具\n",
    "from tqdm import tqdm #執行狀況的競渡條\n",
    "\n",
    "import matplotlib.pyplot as plt #圖形化工具\n",
    "import numpy as np #矩陣處理工具\n"
   ]
  },
  {
   "cell_type": "markdown",
   "id": "f5684cb8-20a1-44b1-8b1c-6f8dfb965285",
   "metadata": {
    "canvas": {
     "comments": [],
     "componentType": "CodeCell",
     "copiedOriginId": null,
     "diskcache": false,
     "headerColor": "none",
     "id": "911205cc-8d63-4923-9cc3-a93b81dc4018",
     "isComponent": false,
     "name": "",
     "parents": []
    }
   },
   "source": [
    "## 訓練數據集設定\n",
    "----"
   ]
  },
  {
   "cell_type": "code",
   "execution_count": 3,
   "id": "9cc5e574-b9db-4c9e-847c-e2d8cefd3e50",
   "metadata": {
    "canvas": {
     "comments": [],
     "componentType": "CodeCell",
     "copiedOriginId": null,
     "diskcache": false,
     "headerColor": "none",
     "id": "0c2be6de-70c1-4bbf-a634-de6ade1cc090",
     "isComponent": true,
     "name": "data_load",
     "parents": [
      {
       "id": "e5a18c88-2360-45cc-8ce1-3e8c3d5e5d3b",
       "name": "load_lib"
      }
     ]
    },
    "tags": []
   },
   "outputs": [],
   "source": [
    "Download_data = True    #第一次用要先下載data,所以是True\n",
    "train_data = datasets.MNIST(\n",
    "    root = './mnist/',\n",
    "    train = True,\n",
    "    transform = transforms.ToTensor(), \n",
    "    # 把灰階從0~255壓縮到0~1\n",
    "    download = Download_data\n",
    ")\n",
    "Download_data = False"
   ]
  },
  {
   "cell_type": "code",
   "execution_count": 4,
   "id": "9a3ea194-1404-46e9-ab71-5f02bf2b1699",
   "metadata": {
    "canvas": {
     "comments": [],
     "componentType": "CodeCell",
     "copiedOriginId": null,
     "diskcache": false,
     "headerColor": "none",
     "id": "5142d78f-0bf6-4534-bda1-33cfb8bdfa31",
     "isComponent": true,
     "name": "load_test_data",
     "parents": [
      {
       "id": "e5a18c88-2360-45cc-8ce1-3e8c3d5e5d3b",
       "name": "load_lib"
      }
     ]
    },
    "tags": []
   },
   "outputs": [],
   "source": [
    "test_data = datasets.MNIST(\n",
    "    root = './mnist/', \n",
    "    train=False,\n",
    "    transform = transforms.ToTensor(),\n",
    "    download = Download_data,\n",
    "    )"
   ]
  },
  {
   "cell_type": "markdown",
   "id": "cc63282a-038b-41ae-88d2-89a4f5defbfb",
   "metadata": {
    "canvas": {
     "comments": [],
     "componentType": "CodeCell",
     "copiedOriginId": null,
     "diskcache": false,
     "headerColor": "none",
     "id": "e7caf068-d5da-45d9-989e-5bf0b3db7a23",
     "isComponent": false,
     "name": "",
     "parents": []
    }
   },
   "source": [
    "## 顯示資料\n",
    "----"
   ]
  },
  {
   "cell_type": "code",
   "execution_count": 5,
   "id": "9234a9a0-f437-44f0-9429-7e76acfdce4b",
   "metadata": {
    "canvas": {
     "comments": [],
     "componentType": "CodeCell",
     "copiedOriginId": null,
     "diskcache": false,
     "headerColor": "none",
     "id": "e04aa5f8-3d62-40d4-8578-8b939d6f70a5",
     "isComponent": false,
     "name": "",
     "parents": []
    },
    "tags": []
   },
   "outputs": [
    {
     "name": "stderr",
     "output_type": "stream",
     "text": [
      "C:\\Users\\Tim599\\AppData\\Local\\Temp\\ipykernel_14460\\1880337691.py:3: UserWarning: To copy construct from a tensor, it is recommended to use sourceTensor.clone().detach() or sourceTensor.clone().detach().requires_grad_(True), rather than torch.tensor(sourceTensor).\n",
      "  img = torch.tensor(train_data.data[num], dtype = torch.float)\n"
     ]
    },
    {
     "data": {
      "image/png": "[encoded data removed]",
      "text/plain": [
       "<Figure size 640x480 with 1 Axes>"
      ]
     },
     "metadata": {},
     "output_type": "display_data"
    }
   ],
   "source": [
    "num = 888\n",
    "\n",
    "img = torch.tensor(train_data.data[num], dtype = torch.float)\n",
    "\n",
    "#呼叫圖形化工具\n",
    "plt.imshow(img,cmap='gray')\n",
    "plt.title('%i' % train_data.targets[num])\n",
    "plt.show()\n"
   ]
  },
  {
   "cell_type": "markdown",
   "id": "cc712b85-6633-452a-9d32-f1b7c6d09ab3",
   "metadata": {
    "canvas": {
     "comments": [],
     "componentType": "CodeCell",
     "copiedOriginId": null,
     "diskcache": false,
     "headerColor": "none",
     "id": "9b08c27e-9e84-403e-9efd-01e56eba9b9b",
     "isComponent": false,
     "name": "",
     "parents": []
    }
   },
   "source": [
    "## 設定資料讀取\n",
    "----"
   ]
  },
  {
   "cell_type": "code",
   "execution_count": 14,
   "id": "af77f7d5-c48b-4ef2-a8ec-d5dd9a82d636",
   "metadata": {
    "canvas": {
     "comments": [],
     "componentType": "CodeCell",
     "copiedOriginId": null,
     "diskcache": false,
     "headerColor": "none",
     "id": "ce0d3d1b-2356-4728-b2ec-b66a9663faf7",
     "isComponent": false,
     "name": "",
     "parents": []
    }
   },
   "outputs": [
    {
     "name": "stdout",
     "output_type": "stream",
     "text": [
      "<class 'torch.Tensor'>\n",
      "data  => torch.Size([256, 1, 28, 28])\n",
      "label => torch.Size [256]\n"
     ]
    }
   ],
   "source": [
    "batch_size = 256           #每次訓練隨機丟64張圖像進去\n",
    "\n",
    "train_loader = DataLoader(dataset = train_data, batch_size = batch_size, shuffle=True)\n",
    "test_loader = DataLoader(dataset = test_data, batch_size = batch_size, shuffle=True )\n",
    "\n",
    "for data, label in train_loader:\n",
    "    print(type(data))\n",
    "    print(\"data  =>\", data.size())\n",
    "    print (\"label => torch.Size\", ([batch_size]))\n",
    "    break    "
   ]
  },
  {
   "cell_type": "markdown",
   "id": "6a32187f-08c6-423b-a740-9dc6a601ae42",
   "metadata": {
    "canvas": {
     "comments": [],
     "componentType": "CodeCell",
     "copiedOriginId": null,
     "diskcache": false,
     "headerColor": "none",
     "id": "ef2ed88a-17ca-42e3-9e26-d15737473d66",
     "isComponent": false,
     "name": "",
     "parents": []
    }
   },
   "source": [
    "## 模型定義\n",
    "----"
   ]
  },
  {
   "cell_type": "code",
   "execution_count": 7,
   "id": "331d045a-9d14-415c-8616-d28bb603d0a2",
   "metadata": {
    "canvas": {
     "comments": [],
     "componentType": "CodeCell",
     "copiedOriginId": null,
     "diskcache": false,
     "headerColor": "none",
     "id": "52aa4648-223a-4ac0-872f-a47d41cd7051",
     "isComponent": false,
     "name": "",
     "parents": []
    }
   },
   "outputs": [],
   "source": [
    "class First_model(nn.Module):\n",
    "    def __init__(self):\n",
    "        super().__init__()\n",
    "        self.fc1 = nn.Linear(784, 512)\n",
    "        self.fc2 = nn.Linear(512, 256)\n",
    "        self.fc3 = nn.Linear(256, 128)\n",
    "        self.fc4 = nn.Linear(128, 64)\n",
    "        self.fc5 = nn.Linear(64, 10)        \n",
    "    def forward(self, x):\n",
    "        x = torch.flatten(x, 1)\n",
    "        x = self.fc1(x)\n",
    "        x = F.relu(x, inplace = True)\n",
    "        x = self.fc2(x)\n",
    "        x = F.relu(x, inplace = True)\n",
    "        x = self.fc3(x)\n",
    "        x = F.relu(x, inplace = True)\n",
    "        x = self.fc4(x)\n",
    "        x = F.relu(x, inplace = True)\n",
    "        x = self.fc5(x)\n",
    "        x = F.relu(x, inplace = True)        \n",
    "        x = F.softmax(x, dim = 1)\n",
    "        return x\n",
    "\n",
    "model = First_model()"
   ]
  },
  {
   "cell_type": "code",
   "execution_count": 8,
   "id": "5b0001fb-439e-42e9-9346-f43de8b73d3b",
   "metadata": {},
   "outputs": [
    {
     "name": "stdout",
     "output_type": "stream",
     "text": [
      "First_model(\n",
      "  (fc1): Linear(in_features=784, out_features=512, bias=True)\n",
      "  (fc2): Linear(in_features=512, out_features=256, bias=True)\n",
      "  (fc3): Linear(in_features=256, out_features=128, bias=True)\n",
      "  (fc4): Linear(in_features=128, out_features=64, bias=True)\n",
      "  (fc5): Linear(in_features=64, out_features=10, bias=True)\n",
      ")\n",
      "<class 'torch.Tensor'>\n",
      "torch.Size([256, 1, 28, 28])\n",
      "torch.Size([256, 10])\n",
      "tensor([0.0987, 0.1002, 0.0987, 0.0987, 0.0987, 0.1013, 0.0989, 0.1067, 0.0995,\n",
      "        0.0987], grad_fn=<SelectBackward0>)\n"
     ]
    }
   ],
   "source": [
    "print (model)\n",
    "for data, label in train_loader:\n",
    "    print(type(data))\n",
    "    print(data.size())\n",
    "    results = model(data)\n",
    "    print(results.size())\n",
    "    print(results[0])\n",
    "    break"
   ]
  },
  {
   "cell_type": "markdown",
   "id": "ea755270-e7d3-409f-8390-574b360e4ae6",
   "metadata": {
    "canvas": {
     "comments": [],
     "componentType": "CodeCell",
     "copiedOriginId": null,
     "diskcache": false,
     "headerColor": "none",
     "id": "37efdeb6-690f-42d4-a1fd-41025076553f",
     "isComponent": false,
     "name": "",
     "parents": []
    }
   },
   "source": [
    "## 損失函數以及優化演算法定義\n",
    "___"
   ]
  },
  {
   "cell_type": "code",
   "execution_count": null,
   "id": "e9ddc7cc-b359-4b5b-8369-916401aa5676",
   "metadata": {
    "canvas": {
     "comments": [],
     "componentType": "CodeCell",
     "copiedOriginId": null,
     "diskcache": false,
     "headerColor": "none",
     "id": "022fc185-7fa3-4315-abca-f96bc1eca9e1",
     "isComponent": false,
     "name": "",
     "parents": []
    }
   },
   "outputs": [],
   "source": [
    "lrr =0.001\n",
    "\n",
    "loss_F = nn.CrossEntropyLoss()\n",
    "\n",
    "opti = Adam(model.parameters(), lr = lrr)\n"
   ]
  },
  {
   "cell_type": "markdown",
   "id": "98389483-4c1e-44ff-96c7-8b6f3db4dc55",
   "metadata": {
    "canvas": {
     "comments": [],
     "componentType": "CodeCell",
     "copiedOriginId": null,
     "diskcache": false,
     "headerColor": "none",
     "id": "61d17115-d03e-4706-8c81-8be7c780a9f7",
     "isComponent": false,
     "name": "",
     "parents": []
    }
   },
   "source": [
    "## 訓練流程\n",
    "----"
   ]
  },
  {
   "cell_type": "code",
   "execution_count": null,
   "id": "ad14b783-a75d-452e-9ed2-28295b32887c",
   "metadata": {
    "canvas": {
     "comments": [],
     "componentType": "CodeCell",
     "copiedOriginId": null,
     "diskcache": false,
     "headerColor": "none",
     "id": "4f182b6f-4667-4201-b231-024403b5a74a",
     "isComponent": false,
     "name": "",
     "parents": []
    }
   },
   "outputs": [],
   "source": [
    "epochs = 50                #全部data訓練10次\n",
    "\n",
    "losses = []\n",
    "\n",
    "for epoch in tqdm(range(epochs)):\n",
    "    running_loss = []\n",
    "    for idx, (data, labels) in enumerate(train_loader):\n",
    "        results = model(data)\n",
    "        # labels = torch.tensor(F.one_hot(labels, num_classes = 10).clone().detach(), dtype = torch.float)\n",
    "        # print(labels)\n",
    "        opti.zero_grad()\n",
    "        #optimizer\n",
    "        loss = loss_F(results, labels)\n",
    "\n",
    "        #spreading backward\n",
    "        loss.backward()\n",
    "        #reload the optimizer\n",
    "        opti.step()\n",
    "        running_loss.append(loss.item())\n",
    "    avg_losses = np.mean(running_loss)\n",
    "    losses.append(avg_losses)\n",
    "    print(f\"epoch:{epoch}, avg_loss:{avg_losses}\")\n"
   ]
  },
  {
   "cell_type": "markdown",
   "id": "2cb8d64a-8705-4b7a-9c44-00d0822e734e",
   "metadata": {
    "canvas": {
     "comments": [],
     "componentType": "CodeCell",
     "copiedOriginId": null,
     "diskcache": false,
     "headerColor": "none",
     "id": "9c2fbe27-a71c-45ea-b034-91c609c2407f",
     "isComponent": false,
     "name": "",
     "parents": []
    }
   },
   "source": [
    "## 顯示訓練圖表\n",
    "----"
   ]
  },
  {
   "cell_type": "code",
   "execution_count": null,
   "id": "9daaa9b2-9f4c-42e7-ad20-6eb90e1732f9",
   "metadata": {
    "canvas": {
     "comments": [],
     "componentType": "CodeCell",
     "copiedOriginId": null,
     "diskcache": false,
     "headerColor": "none",
     "id": "014805d4-81d0-4e4b-8389-eb6ac7da10c9",
     "isComponent": false,
     "name": "",
     "parents": []
    }
   },
   "outputs": [],
   "source": [
    "plt.ylabel(\"loss_value\")\n",
    "plt.xlabel(\"epochs\")\n",
    "plt.plot(losses)\n",
    "plt.title(\"training loss\")\n",
    "plt.show()"
   ]
  },
  {
   "cell_type": "markdown",
   "id": "029538a9-aacf-420b-b4d5-60eb753a7c00",
   "metadata": {
    "canvas": {
     "comments": [],
     "componentType": "CodeCell",
     "copiedOriginId": null,
     "diskcache": false,
     "headerColor": "none",
     "id": "49a8df1a-1703-4f2b-a240-5731ae58c3f8",
     "isComponent": false,
     "name": "",
     "parents": []
    }
   },
   "source": [
    "## 測試模型 + 混淆矩陣展示\n",
    "----"
   ]
  },
  {
   "cell_type": "code",
   "execution_count": null,
   "id": "93bf6b96-7f53-47fa-97fe-3bc84e04d6a7",
   "metadata": {
    "canvas": {
     "comments": [],
     "componentType": "CodeCell",
     "copiedOriginId": null,
     "diskcache": false,
     "headerColor": "none",
     "id": "b171f4db-b122-4652-817e-c007002a7b8a",
     "isComponent": false,
     "name": "",
     "parents": []
    }
   },
   "outputs": [],
   "source": [
    "# 設定模型模式為驗證模式。\n",
    "model.eval()\n",
    "acc_lst = []\n",
    "# 設定類別數量\n",
    "num_classes = 10\n",
    "\n",
    "# 混淆矩陣設定\n",
    "conf_matrix = torch.zeros(num_classes, num_classes)\n",
    "\n",
    "# 使pytorch運算時，取消梯度運算\n",
    "with torch.no_grad():\n",
    "    for idx, (data, label) in enumerate(test_loader):\n",
    "        outputs = model(data)\n",
    "        prob, class_results = torch.max(outputs, 1)\n",
    "        \n",
    "        # 計算混肴矩陣的位置\n",
    "        for target, pred in zip(label, class_results):\n",
    "            conf_matrix[target, pred] += 1\n",
    "            \n",
    "        # 設定過濾答案判斷的判斷式\n",
    "        corr = (class_results == label)\n",
    "        acc = len(class_results[corr]) / len(class_results)\n",
    "        acc_lst.append(acc)\n",
    "        \n",
    "        \n",
    "print(f\"avg_acc => {np.mean(acc_lst)}\")\n"
   ]
  },
  {
   "cell_type": "code",
   "execution_count": null,
   "id": "ff733368-5e80-4062-87cb-1f0fccb72239",
   "metadata": {
    "canvas": {
     "comments": [],
     "componentType": "CodeCell",
     "copiedOriginId": null,
     "diskcache": false,
     "headerColor": "none",
     "id": "a75350d2-55d4-4b53-8d25-243d33f39bff",
     "isComponent": false,
     "name": "",
     "parents": []
    }
   },
   "outputs": [],
   "source": [
    "plt.imshow(conf_matrix, cmap=plt.cm.Blues)\n",
    "classes = [i for i in range(num_classes)]\n",
    "\n",
    "classes = []\n",
    "for i in range(num_classes):\n",
    "    classes.append(i)\n",
    "\n",
    "thresh = conf_matrix.max() / 2\t#數值顏色閾值，如果數值超過這個，就顏色加深。\n",
    "for x in range(num_classes):\n",
    "    for y in range(num_classes):\n",
    "        # 注意這裡的matrix[y, x]不是matrix[x, y]\n",
    "        info = int(conf_matrix[y, x])\n",
    "        plt.text(x, y, info,\n",
    "                 verticalalignment='center',\n",
    "                 horizontalalignment='center',\n",
    "                 color=\"white\" if info > thresh else \"black\")\n",
    "                 \n",
    "plt.tight_layout() #保證圖不重疊\n",
    "plt.title(\"Confusion Matrix\")\n",
    "plt.yticks(range(len(classes)), classes)\n",
    "plt.xticks(range(len(classes)), classes,rotation=45)\n",
    "plt.xlabel(\"Pridict\")\n",
    "plt.ylabel(\"Anser\")\n",
    "plt.show()\n",
    "plt.close()"
   ]
  },
  {
   "cell_type": "code",
   "execution_count": null,
   "id": "09b3c2ec-ef43-48af-b284-de5ccab57ed0",
   "metadata": {
    "canvas": {
     "comments": [],
     "componentType": "CodeCell",
     "copiedOriginId": null,
     "diskcache": false,
     "headerColor": "none",
     "id": "cc3b6c4d-501e-4452-ab4d-9d7fbf9da1e8",
     "isComponent": false,
     "name": "",
     "parents": []
    }
   },
   "outputs": [],
   "source": []
  }
 ],
 "metadata": {
  "canvas": {
   "colorPalette": [
    "inherit",
    "inherit",
    "inherit",
    "inherit",
    "inherit",
    "inherit",
    "inherit",
    "inherit",
    "inherit",
    "inherit"
   ],
   "parameters": [],
   "version": "1.0"
  },
  "kernelspec": {
   "display_name": "Python 3 (ipykernel)",
   "language": "python",
   "name": "python3"
  },
  "language_info": {
   "codemirror_mode": {
    "name": "ipython",
    "version": 3
   },
   "file_extension": ".py",
   "mimetype": "text/x-python",
   "name": "python",
   "nbconvert_exporter": "python",
   "pygments_lexer": "ipython3",
   "version": "3.9.1"
  }
 },
 "nbformat": 4,
 "nbformat_minor": 5
}
